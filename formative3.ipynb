{
  "cells": [
    {
      "cell_type": "markdown",
      "metadata": {},
      "source": [
        "#  Part 4: Gradient Descent in Code "
      ]
    },
    {
      "cell_type": "markdown",
      "metadata": {},
      "source": [
        "*In this section we are going to convert the manual calculation computed in part 3 into Pyhon code using SciPy.*"
      ]
    },
    {
      "cell_type": "markdown",
      "metadata": {},
      "source": [
        "### Import libraries:\n",
        "- numpy: Used for  for numerical computations.\n",
        "- matplotlib.pyplot:Used for creating visualizations and plotting data.\n",
        "-  scipy.optimize.approx_fprime:Computes numerically gradients\n"
      ]
    },
    {
      "cell_type": "code",
      "execution_count": 1,
      "metadata": {},
      "outputs": [],
      "source": [
        "\n",
        "import numpy as np\n",
        "import matplotlib.pyplot as plt\n",
        "from scipy.optimize import approx_fprime"
      ]
    },
    {
      "cell_type": "markdown",
      "metadata": {},
      "source": [
        "### Initialization of Dataset and Parameters\n",
        "\n",
        "1. Initial m=-1\n",
        "2. Initial b=1\n",
        "3. learning rate=0.1\n",
        "4. Given points: (1,3) and (3,6)"
      ]
    },
    {
      "cell_type": "code",
      "execution_count": 2,
      "metadata": {},
      "outputs": [],
      "source": [
        "# Parameters\n",
        "m=-1\n",
        "b=1\n",
        "alpha = 000.1  # Learning rate\n",
        "\n",
        "# Dataset\n",
        "X = np.array([1, 3]) \n",
        "Y = np.array([3, 6])  "
      ]
    },
    {
      "cell_type": "markdown",
      "metadata": {},
      "source": [
        "### Mean Squared Error Cost Function\n",
        "It helps us measure how large the prediction error is.\n",
        "\n",
        "### Components:\n",
        "1. len(x): count how many data point we have in x which in our case is 2 as x ha 2 elements ([1,3])\n",
        "2. prediction :\n",
        "3. error : difference between prediction and true y value.\n",
        "4. cost: Mean Squared Error\n"
      ]
    },
    {
      "cell_type": "code",
      "execution_count": 3,
      "metadata": {},
      "outputs": [],
      "source": [
        "def cost_function(m, b, X, Y):\n",
        "    N = len(X)\n",
        "    predictions = m * X + b\n",
        "    error = predictions - Y\n",
        "    cost = (1 / N) * np.sum(error ** 2)\n",
        "    return cost"
      ]
    },
    {
      "cell_type": "markdown",
      "metadata": {},
      "source": [
        "### Gradient Calculation:\n",
        "\n",
        "We define a function to compute the gradients of the cost function with respect to parameters `m`  and `b` .  \n",
        "These gradients tell us how to adjust `m` and `b` in order to reduce the error.\n",
        "\n",
        "### Components:\n",
        "\n",
        "- GoM: tells us how to update m\n",
        "- GoB: tells us how to update b\n",
        "\n"
      ]
    },
    {
      "cell_type": "code",
      "execution_count": 4,
      "metadata": {},
      "outputs": [],
      "source": [
        "# Gradient Calculation\n",
        "def gradients(m, b, X, Y):\n",
        "    N = len(X)\n",
        "    predictions = m * X + b\n",
        "    error = predictions - Y\n",
        "    GoM = (2 / N) * np.sum(error * X)\n",
        "    GoB = (2 / N) * np.sum(error)\n",
        "    return GoM,GoB"
      ]
    },
    {
      "cell_type": "code",
      "execution_count": 6,
      "metadata": {},
      "outputs": [],
      "source": [
        "# Perform Gradient Descent\n",
        "max_iterations =4\n"
      ]
    },
    {
      "cell_type": "code",
      "execution_count": 7,
      "metadata": {},
      "outputs": [
        {
          "name": "stdout",
          "output_type": "stream",
          "text": [
            "Iteration 1: Cost=36.5000, m=1.7000, b=2.1000\n",
            "Iteration 2: Cost=1.0400, m=1.2600, b=1.9000\n",
            "Iteration 3: Cost=0.0640, m=1.3400, b=1.9160\n",
            "Iteration 4: Cost=0.0348, m=1.3336, b=1.8968\n"
          ]
        }
      ],
      "source": [
        "for i in range(max_iterations):\n",
        "    current_cost = cost_function(m, b, X, Y)\n",
        "    GoM, GoB = gradients(m, b, X, Y)\n",
        "    \n",
        "    m = m - alpha * GoM\n",
        "    b = b - alpha * GoB\n",
        "    \n",
        "    print(f\"Iteration {i+1}: Cost={current_cost:.4f}, m={m:.4f}, b={b:.4f}\")\n"
      ]
    },
    {
      "cell_type": "markdown",
      "metadata": {},
      "source": []
    }
  ],
  "metadata": {
    "colab": {
      "provenance": []
    },
    "kernelspec": {
      "display_name": "Python 3",
      "name": "python3"
    },
    "language_info": {
      "codemirror_mode": {
        "name": "ipython",
        "version": 3
      },
      "file_extension": ".py",
      "mimetype": "text/x-python",
      "name": "python",
      "nbconvert_exporter": "python",
      "pygments_lexer": "ipython3",
      "version": "3.12.4"
    }
  },
  "nbformat": 4,
  "nbformat_minor": 0
}
